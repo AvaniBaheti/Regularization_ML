{
 "cells": [
  {
   "cell_type": "code",
   "execution_count": 1,
   "id": "22b139c0",
   "metadata": {},
   "outputs": [],
   "source": [
    "from sklearn.datasets import load_diabetes\n",
    "from sklearn.metrics import r2_score\n",
    "import numpy as np"
   ]
  },
  {
   "cell_type": "code",
   "execution_count": 2,
   "id": "c3435278",
   "metadata": {},
   "outputs": [],
   "source": [
    "X,y = load_diabetes(return_X_y=True)"
   ]
  },
  {
   "cell_type": "code",
   "execution_count": 3,
   "id": "c47afaac",
   "metadata": {},
   "outputs": [],
   "source": [
    "from sklearn.model_selection import train_test_split"
   ]
  },
  {
   "cell_type": "code",
   "execution_count": 4,
   "id": "a9bd4c89",
   "metadata": {},
   "outputs": [],
   "source": [
    "X_train,X_test,y_train,y_test = train_test_split(X,y,test_size=0.2,random_state=4)"
   ]
  },
  {
   "cell_type": "code",
   "execution_count": 5,
   "id": "19dae5ed",
   "metadata": {},
   "outputs": [],
   "source": [
    "from sklearn.linear_model import SGDRegressor"
   ]
  },
  {
   "cell_type": "code",
   "execution_count": 6,
   "id": "871186b0",
   "metadata": {},
   "outputs": [
    {
     "name": "stdout",
     "output_type": "stream",
     "text": [
      "R2 score 0.42203997338689114\n",
      "[  48.80058499 -152.49653661  363.77892585  262.23258447   -4.27836956\n",
      "  -57.10924171 -167.48894441  136.68979867  323.96698326  102.82372373]\n",
      "[170.64256678]\n"
     ]
    }
   ],
   "source": [
    "reg = SGDRegressor(penalty='l2',max_iter=500,eta0=0.1,learning_rate='constant',alpha=0.001)\n",
    "reg.fit(X_train,y_train)\n",
    "\n",
    "y_pred = reg.predict(X_test)\n",
    "print(\"R2 score\",r2_score(y_test,y_pred))\n",
    "print(reg.coef_)\n",
    "print(reg.intercept_)"
   ]
  },
  {
   "cell_type": "code",
   "execution_count": 7,
   "id": "872ae5a9",
   "metadata": {},
   "outputs": [
    {
     "name": "stdout",
     "output_type": "stream",
     "text": [
      "R2 score 0.4623892201785157\n",
      "[  34.6261743  -290.4264356   483.96594579  367.96559727 -852.21640466\n",
      "  498.74459942  183.78210205  276.57704124  757.34559542   36.95860455]\n",
      "151.10416921889097\n"
     ]
    }
   ],
   "source": [
    "from sklearn.linear_model import Ridge\n",
    "\n",
    "reg = Ridge(alpha=0.001, max_iter=500,solver='sparse_cg')\n",
    "reg.fit(X_train,y_train)\n",
    "\n",
    "y_pred = reg.predict(X_test)\n",
    "print(\"R2 score\",r2_score(y_test,y_pred))\n",
    "print(reg.coef_)\n",
    "print(reg.intercept_)"
   ]
  },
  {
   "cell_type": "code",
   "execution_count": 8,
   "id": "80dde2ae",
   "metadata": {},
   "outputs": [],
   "source": [
    "class MeraRidgeGD:\n",
    "    \n",
    "    def __init__(self,epochs,learning_rate,alpha):\n",
    "        \n",
    "        self.learning_rate = learning_rate\n",
    "        self.epochs = epochs\n",
    "        self.alpha = alpha\n",
    "        self.coef_ = None\n",
    "        self.intercept_ = None\n",
    "        \n",
    "    def fit(self,X_train,y_train):\n",
    "        \n",
    "        self.coef_ = np.ones(X_train.shape[1])\n",
    "        self.intercept_ = 0\n",
    "        thetha = np.insert(self.coef_,0,self.intercept_)\n",
    "        \n",
    "        X_train = np.insert(X_train,0,1,axis=1)\n",
    "        \n",
    "        for i in range(self.epochs):\n",
    "            thetha_der = np.dot(X_train.T,X_train).dot(thetha) - np.dot(X_train.T,y_train) + self.alpha*thetha\n",
    "            thetha = thetha - self.learning_rate*thetha_der\n",
    "        \n",
    "        self.coef_ = thetha[1:]\n",
    "        self.intercept_ = thetha[0]\n",
    "    \n",
    "    def predict(self,X_test):\n",
    "        \n",
    "        return np.dot(X_test,self.coef_) + self.intercept_"
   ]
  },
  {
   "cell_type": "code",
   "execution_count": 9,
   "id": "c36e8dd4",
   "metadata": {},
   "outputs": [
    {
     "name": "stdout",
     "output_type": "stream",
     "text": [
      "R2 score 0.47379622696725343\n",
      "[  46.65040212 -221.37723801  452.11770407  325.54645024  -29.09573382\n",
      "  -96.47613436 -190.90029664  146.3286965   400.80754967   95.08979987]\n",
      "150.869724427339\n"
     ]
    }
   ],
   "source": [
    "reg = MeraRidgeGD(epochs=500,alpha=0.001,learning_rate=0.005)\n",
    "reg.fit(X_train,y_train)\n",
    "\n",
    "y_pred = reg.predict(X_test)\n",
    "print(\"R2 score\",r2_score(y_test,y_pred))\n",
    "print(reg.coef_)\n",
    "print(reg.intercept_)"
   ]
  },
  {
   "cell_type": "code",
   "execution_count": null,
   "id": "f9067262",
   "metadata": {},
   "outputs": [],
   "source": []
  }
 ],
 "metadata": {
  "kernelspec": {
   "display_name": "Python 3 (ipykernel)",
   "language": "python",
   "name": "python3"
  },
  "language_info": {
   "codemirror_mode": {
    "name": "ipython",
    "version": 3
   },
   "file_extension": ".py",
   "mimetype": "text/x-python",
   "name": "python",
   "nbconvert_exporter": "python",
   "pygments_lexer": "ipython3",
   "version": "3.9.13"
  }
 },
 "nbformat": 4,
 "nbformat_minor": 5
}
